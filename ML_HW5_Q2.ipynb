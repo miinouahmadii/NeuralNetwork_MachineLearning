{
  "nbformat": 4,
  "nbformat_minor": 0,
  "metadata": {
    "colab": {
      "name": "ML_HW5_Q2.ipynb",
      "provenance": []
    },
    "kernelspec": {
      "name": "python3",
      "display_name": "Python 3"
    },
    "language_info": {
      "name": "python"
    }
  },
  "cells": [
    {
      "cell_type": "code",
      "execution_count": null,
      "metadata": {
        "id": "bbXqIiiIowz0"
      },
      "outputs": [],
      "source": [
        "import matplotlib.pyplot as plt\n",
        "from sklearn.model_selection import train_test_split\n",
        "from sklearn.datasets import load_breast_cancer\n",
        "import numpy as np\n",
        "from sklearn.preprocessing import StandardScaler\n",
        "from sklearn.metrics import confusion_matrix\n",
        "from sklearn.metrics import accuracy_score\n",
        "import time"
      ]
    },
    {
      "cell_type": "code",
      "source": [
        "import tensorflow as tf\n",
        "from tensorflow import keras\n",
        "from keras.models import Sequential\n",
        "from keras.layers import Dense\n",
        "from keras.layers import LeakyReLU,PReLU,ELU\n",
        "from keras.layers import Dropout"
      ],
      "metadata": {
        "id": "CUT4Y1eANSMg"
      },
      "execution_count": null,
      "outputs": []
    },
    {
      "cell_type": "code",
      "source": [
        "X, y = load_breast_cancer(return_X_y=True)\n",
        "X_train, X_test, y_train, y_test = train_test_split(X, y, test_size=0.2, train_size=0.8, random_state=0)"
      ],
      "metadata": {
        "id": "V5BrJDYdswc4"
      },
      "execution_count": null,
      "outputs": []
    },
    {
      "cell_type": "code",
      "source": [
        "print(X_train.shape)\n",
        "print(X_train[0])"
      ],
      "metadata": {
        "colab": {
          "base_uri": "https://localhost:8080/"
        },
        "id": "GlkWnvWrvxsF",
        "outputId": "e47713f7-421c-4f44-f705-b5a6c3681773"
      },
      "execution_count": null,
      "outputs": [
        {
          "output_type": "stream",
          "name": "stdout",
          "text": [
            "(455, 30)\n",
            "[1.005e+01 1.753e+01 6.441e+01 3.108e+02 1.007e-01 7.326e-02 2.511e-02\n",
            " 1.775e-02 1.890e-01 6.331e-02 2.619e-01 2.015e+00 1.778e+00 1.685e+01\n",
            " 7.803e-03 1.449e-02 1.690e-02 8.043e-03 2.100e-02 2.778e-03 1.116e+01\n",
            " 2.684e+01 7.198e+01 3.840e+02 1.402e-01 1.402e-01 1.055e-01 6.499e-02\n",
            " 2.894e-01 7.664e-02]\n"
          ]
        }
      ]
    },
    {
      "cell_type": "code",
      "source": [
        "print(min(X_train.flatten())) # = 1\n",
        "print(max(X_train.flatten())) # = 1"
      ],
      "metadata": {
        "colab": {
          "base_uri": "https://localhost:8080/"
        },
        "id": "q8sItMZ-36JH",
        "outputId": "167a7d0a-acf7-4b41-f136-826c1e2b8a46"
      },
      "execution_count": null,
      "outputs": [
        {
          "output_type": "stream",
          "name": "stdout",
          "text": [
            "0.0\n",
            "4254.0\n"
          ]
        }
      ]
    },
    {
      "cell_type": "code",
      "source": [
        "print(np.unique(y_train))"
      ],
      "metadata": {
        "colab": {
          "base_uri": "https://localhost:8080/"
        },
        "id": "t7D_r1vKKNqL",
        "outputId": "4e4b479c-ac29-48ea-d5be-29ec0d995fb7"
      },
      "execution_count": null,
      "outputs": [
        {
          "output_type": "stream",
          "name": "stdout",
          "text": [
            "[0 1]\n"
          ]
        }
      ]
    },
    {
      "cell_type": "code",
      "source": [
        "sc = StandardScaler()\n",
        "X_train = sc.fit_transform(X_train)\n",
        "X_test = sc.transform(X_test)"
      ],
      "metadata": {
        "id": "NUkZJui4Lm8N"
      },
      "execution_count": null,
      "outputs": []
    },
    {
      "cell_type": "code",
      "source": [
        "input_size = len(X_train[0])\n",
        "print(input_size)"
      ],
      "metadata": {
        "colab": {
          "base_uri": "https://localhost:8080/"
        },
        "id": "DUwGOi6iNh6v",
        "outputId": "6b0e0e3f-865e-4d1c-9f25-c37157714d9f"
      },
      "execution_count": null,
      "outputs": [
        {
          "output_type": "stream",
          "name": "stdout",
          "text": [
            "30\n"
          ]
        }
      ]
    },
    {
      "cell_type": "code",
      "source": [
        "def evaluate(test, ytest, model):\n",
        "  y_pred = model.predict(test)\n",
        "  y_pred= (y_pred>0.5)\n",
        "  cm = confusion_matrix(ytest,y_pred)\n",
        "  acc = accuracy_score(ytest,y_pred)\n",
        "  print(cm)\n",
        "  print('accuracy = :',acc)"
      ],
      "metadata": {
        "id": "6x8qN53IcFDp"
      },
      "execution_count": null,
      "outputs": []
    },
    {
      "cell_type": "code",
      "source": [
        "def plot_loss(history):\n",
        "  fig, (ax1, ax2) = plt.subplots(1, 2)\n",
        "  fig.set_figheight(15)\n",
        "  fig.set_figwidth(15)\n",
        "  fig.suptitle('accuracy and loss of model')\n",
        "  ax1.plot(history.history[\"loss\"],label=\"loss\")\n",
        "  ax1.plot(history.history[\"val_loss\"],label=\"val_loss\")\n",
        "  ax2.plot(history.history[\"accuracy\"],label=\"train\")\n",
        "  ax2.plot(history.history[\"val_accuracy\"],label=\"validation\")\n",
        "  plt.legend()"
      ],
      "metadata": {
        "id": "1nlrP-90dq2_"
      },
      "execution_count": null,
      "outputs": []
    },
    {
      "cell_type": "markdown",
      "source": [
        "# creating model"
      ],
      "metadata": {
        "id": "C7--J94fONUB"
      }
    },
    {
      "cell_type": "code",
      "source": [
        "model1 = Sequential()\n",
        "model1.add(Dense(units=15,kernel_initializer='he_uniform',activation='relu',input_dim=input_size))\n",
        "model1.add(Dense(units=15,kernel_initializer='he_uniform',activation='relu'))\n",
        "model1.add(Dense(units=1,kernel_initializer='glorot_uniform',activation='sigmoid'))"
      ],
      "metadata": {
        "id": "sK4BmxU-Luok"
      },
      "execution_count": null,
      "outputs": []
    },
    {
      "cell_type": "code",
      "source": [
        "model1.summary()"
      ],
      "metadata": {
        "colab": {
          "base_uri": "https://localhost:8080/"
        },
        "id": "ozSIF9-YOQci",
        "outputId": "c315e2c6-bb29-4b9a-bde3-e3207640592e"
      },
      "execution_count": null,
      "outputs": [
        {
          "output_type": "stream",
          "name": "stdout",
          "text": [
            "Model: \"sequential_33\"\n",
            "_________________________________________________________________\n",
            " Layer (type)                Output Shape              Param #   \n",
            "=================================================================\n",
            " dense_99 (Dense)            (None, 15)                465       \n",
            "                                                                 \n",
            " dense_100 (Dense)           (None, 15)                240       \n",
            "                                                                 \n",
            " dense_101 (Dense)           (None, 1)                 16        \n",
            "                                                                 \n",
            "=================================================================\n",
            "Total params: 721\n",
            "Trainable params: 721\n",
            "Non-trainable params: 0\n",
            "_________________________________________________________________\n"
          ]
        }
      ]
    },
    {
      "cell_type": "markdown",
      "source": [
        "# call backs"
      ],
      "metadata": {
        "id": "nqoCSwusPLXe"
      }
    },
    {
      "cell_type": "code",
      "source": [
        "def scheduler(epoch, lr):\n",
        "  if epoch < 10:\n",
        "    return lr\n",
        "  else:\n",
        "    return lr * tf.math.exp(-0.5)"
      ],
      "metadata": {
        "id": "T-9hYngJQjiI"
      },
      "execution_count": null,
      "outputs": []
    },
    {
      "cell_type": "code",
      "source": [
        "callback1 = keras.callbacks.EarlyStopping(monitor='val_loss', patience=3)\n",
        "callback2 = keras.callbacks.LearningRateScheduler(scheduler)"
      ],
      "metadata": {
        "id": "QEGkKDl4PNP_"
      },
      "execution_count": null,
      "outputs": []
    },
    {
      "cell_type": "markdown",
      "source": [
        "# **` compile model`**"
      ],
      "metadata": {
        "id": "Ap30tfszPvv0"
      }
    },
    {
      "cell_type": "markdown",
      "source": [
        "## 2 callbacks , batch size = 100, epochs = 100, optimizer = adam"
      ],
      "metadata": {
        "id": "e72jtSAOjMy_"
      }
    },
    {
      "cell_type": "code",
      "source": [
        "model1.compile(optimizer='adam',loss='binary_crossentropy',metrics=['accuracy'])"
      ],
      "metadata": {
        "id": "3sZY7beOOiuV"
      },
      "execution_count": null,
      "outputs": []
    },
    {
      "cell_type": "code",
      "source": [
        "start = time.time()\n",
        "history1 = model1.fit(X_train, y_train, validation_split=0.1, batch_size= 100, epochs= 100, callbacks=[callback1, callback2])\n",
        "end = time.time()\n",
        "print('training time:' , end-start)"
      ],
      "metadata": {
        "colab": {
          "base_uri": "https://localhost:8080/"
        },
        "id": "DUcXpb8XQ9NC",
        "outputId": "43504874-1770-4c4a-a727-c83cc3555247"
      },
      "execution_count": null,
      "outputs": [
        {
          "output_type": "stream",
          "name": "stdout",
          "text": [
            "Epoch 1/100\n",
            "5/5 [==============================] - 1s 43ms/step - loss: 0.5019 - accuracy: 0.7775 - val_loss: 0.4837 - val_accuracy: 0.7609 - lr: 0.0010\n",
            "Epoch 2/100\n",
            "5/5 [==============================] - 0s 8ms/step - loss: 0.4435 - accuracy: 0.8411 - val_loss: 0.4339 - val_accuracy: 0.8478 - lr: 0.0010\n",
            "Epoch 3/100\n",
            "5/5 [==============================] - 0s 9ms/step - loss: 0.3974 - accuracy: 0.8802 - val_loss: 0.3922 - val_accuracy: 0.8478 - lr: 0.0010\n",
            "Epoch 4/100\n",
            "5/5 [==============================] - 0s 10ms/step - loss: 0.3575 - accuracy: 0.8900 - val_loss: 0.3574 - val_accuracy: 0.8913 - lr: 0.0010\n",
            "Epoch 5/100\n",
            "5/5 [==============================] - 0s 9ms/step - loss: 0.3250 - accuracy: 0.9071 - val_loss: 0.3284 - val_accuracy: 0.9130 - lr: 0.0010\n",
            "Epoch 6/100\n",
            "5/5 [==============================] - 0s 9ms/step - loss: 0.2969 - accuracy: 0.9071 - val_loss: 0.3037 - val_accuracy: 0.9130 - lr: 0.0010\n",
            "Epoch 7/100\n",
            "5/5 [==============================] - 0s 8ms/step - loss: 0.2730 - accuracy: 0.9242 - val_loss: 0.2830 - val_accuracy: 0.9130 - lr: 0.0010\n",
            "Epoch 8/100\n",
            "5/5 [==============================] - 0s 8ms/step - loss: 0.2527 - accuracy: 0.9242 - val_loss: 0.2654 - val_accuracy: 0.9130 - lr: 0.0010\n",
            "Epoch 9/100\n",
            "5/5 [==============================] - 0s 9ms/step - loss: 0.2364 - accuracy: 0.9242 - val_loss: 0.2502 - val_accuracy: 0.9130 - lr: 0.0010\n",
            "Epoch 10/100\n",
            "5/5 [==============================] - 0s 9ms/step - loss: 0.2222 - accuracy: 0.9242 - val_loss: 0.2363 - val_accuracy: 0.9130 - lr: 0.0010\n",
            "Epoch 11/100\n",
            "5/5 [==============================] - 0s 9ms/step - loss: 0.2113 - accuracy: 0.9340 - val_loss: 0.2283 - val_accuracy: 0.9130 - lr: 6.0653e-04\n",
            "Epoch 12/100\n",
            "5/5 [==============================] - 0s 8ms/step - loss: 0.2054 - accuracy: 0.9340 - val_loss: 0.2236 - val_accuracy: 0.9565 - lr: 3.6788e-04\n",
            "Epoch 13/100\n",
            "5/5 [==============================] - 0s 9ms/step - loss: 0.2021 - accuracy: 0.9389 - val_loss: 0.2209 - val_accuracy: 0.9565 - lr: 2.2313e-04\n",
            "Epoch 14/100\n",
            "5/5 [==============================] - 0s 9ms/step - loss: 0.2001 - accuracy: 0.9389 - val_loss: 0.2193 - val_accuracy: 0.9565 - lr: 1.3534e-04\n",
            "Epoch 15/100\n",
            "5/5 [==============================] - 0s 8ms/step - loss: 0.1989 - accuracy: 0.9389 - val_loss: 0.2183 - val_accuracy: 0.9565 - lr: 8.2085e-05\n",
            "Epoch 16/100\n",
            "5/5 [==============================] - 0s 8ms/step - loss: 0.1982 - accuracy: 0.9389 - val_loss: 0.2178 - val_accuracy: 0.9565 - lr: 4.9787e-05\n",
            "Epoch 17/100\n",
            "5/5 [==============================] - 0s 8ms/step - loss: 0.1978 - accuracy: 0.9389 - val_loss: 0.2175 - val_accuracy: 0.9565 - lr: 3.0197e-05\n",
            "Epoch 18/100\n",
            "5/5 [==============================] - 0s 10ms/step - loss: 0.1975 - accuracy: 0.9389 - val_loss: 0.2173 - val_accuracy: 0.9565 - lr: 1.8316e-05\n",
            "Epoch 19/100\n",
            "5/5 [==============================] - 0s 11ms/step - loss: 0.1974 - accuracy: 0.9389 - val_loss: 0.2172 - val_accuracy: 0.9565 - lr: 1.1109e-05\n",
            "Epoch 20/100\n",
            "5/5 [==============================] - 0s 9ms/step - loss: 0.1973 - accuracy: 0.9389 - val_loss: 0.2171 - val_accuracy: 0.9565 - lr: 6.7379e-06\n",
            "Epoch 21/100\n",
            "5/5 [==============================] - 0s 8ms/step - loss: 0.1973 - accuracy: 0.9389 - val_loss: 0.2171 - val_accuracy: 0.9565 - lr: 4.0868e-06\n",
            "Epoch 22/100\n",
            "5/5 [==============================] - 0s 8ms/step - loss: 0.1972 - accuracy: 0.9389 - val_loss: 0.2171 - val_accuracy: 0.9565 - lr: 2.4788e-06\n",
            "Epoch 23/100\n",
            "5/5 [==============================] - 0s 8ms/step - loss: 0.1972 - accuracy: 0.9389 - val_loss: 0.2171 - val_accuracy: 0.9565 - lr: 1.5034e-06\n",
            "Epoch 24/100\n",
            "5/5 [==============================] - 0s 8ms/step - loss: 0.1972 - accuracy: 0.9389 - val_loss: 0.2171 - val_accuracy: 0.9565 - lr: 9.1188e-07\n",
            "Epoch 25/100\n",
            "5/5 [==============================] - 0s 8ms/step - loss: 0.1972 - accuracy: 0.9389 - val_loss: 0.2171 - val_accuracy: 0.9565 - lr: 5.5308e-07\n",
            "Epoch 26/100\n",
            "5/5 [==============================] - 0s 8ms/step - loss: 0.1972 - accuracy: 0.9389 - val_loss: 0.2170 - val_accuracy: 0.9565 - lr: 3.3546e-07\n",
            "Epoch 27/100\n",
            "5/5 [==============================] - 0s 8ms/step - loss: 0.1972 - accuracy: 0.9389 - val_loss: 0.2170 - val_accuracy: 0.9565 - lr: 2.0347e-07\n",
            "Epoch 28/100\n",
            "5/5 [==============================] - 0s 9ms/step - loss: 0.1972 - accuracy: 0.9389 - val_loss: 0.2170 - val_accuracy: 0.9565 - lr: 1.2341e-07\n",
            "Epoch 29/100\n",
            "5/5 [==============================] - 0s 11ms/step - loss: 0.1972 - accuracy: 0.9389 - val_loss: 0.2170 - val_accuracy: 0.9565 - lr: 7.4852e-08\n",
            "Epoch 30/100\n",
            "5/5 [==============================] - 0s 8ms/step - loss: 0.1972 - accuracy: 0.9389 - val_loss: 0.2170 - val_accuracy: 0.9565 - lr: 4.5400e-08\n",
            "Epoch 31/100\n",
            "5/5 [==============================] - 0s 8ms/step - loss: 0.1972 - accuracy: 0.9389 - val_loss: 0.2170 - val_accuracy: 0.9565 - lr: 2.7536e-08\n",
            "Epoch 32/100\n",
            "5/5 [==============================] - 0s 8ms/step - loss: 0.1972 - accuracy: 0.9389 - val_loss: 0.2170 - val_accuracy: 0.9565 - lr: 1.6702e-08\n",
            "Epoch 33/100\n",
            "5/5 [==============================] - 0s 8ms/step - loss: 0.1972 - accuracy: 0.9389 - val_loss: 0.2170 - val_accuracy: 0.9565 - lr: 1.0130e-08\n",
            "Epoch 34/100\n",
            "5/5 [==============================] - 0s 9ms/step - loss: 0.1972 - accuracy: 0.9389 - val_loss: 0.2170 - val_accuracy: 0.9565 - lr: 6.1442e-09\n",
            "Epoch 35/100\n",
            "5/5 [==============================] - 0s 8ms/step - loss: 0.1972 - accuracy: 0.9389 - val_loss: 0.2170 - val_accuracy: 0.9565 - lr: 3.7267e-09\n",
            "Epoch 36/100\n",
            "5/5 [==============================] - 0s 8ms/step - loss: 0.1972 - accuracy: 0.9389 - val_loss: 0.2170 - val_accuracy: 0.9565 - lr: 2.2603e-09\n",
            "Epoch 37/100\n",
            "5/5 [==============================] - 0s 9ms/step - loss: 0.1972 - accuracy: 0.9389 - val_loss: 0.2170 - val_accuracy: 0.9565 - lr: 1.3710e-09\n",
            "Epoch 38/100\n",
            "5/5 [==============================] - 0s 8ms/step - loss: 0.1972 - accuracy: 0.9389 - val_loss: 0.2170 - val_accuracy: 0.9565 - lr: 8.3153e-10\n",
            "Epoch 39/100\n",
            "5/5 [==============================] - 0s 8ms/step - loss: 0.1972 - accuracy: 0.9389 - val_loss: 0.2170 - val_accuracy: 0.9565 - lr: 5.0435e-10\n",
            "training time: 2.5479917526245117\n"
          ]
        }
      ]
    },
    {
      "cell_type": "code",
      "source": [
        "evaluate(X_test, y_test, model1)\n",
        "plot_loss(history1)"
      ],
      "metadata": {
        "colab": {
          "base_uri": "https://localhost:8080/",
          "height": 348
        },
        "id": "yJkPjg3GgQQF",
        "outputId": "7f93a76e-63fc-4506-90cf-a6af0a553d92"
      },
      "execution_count": null,
      "outputs": [
        {
          "output_type": "stream",
          "name": "stdout",
          "text": [
            "[[43  4]\n",
            " [ 6 61]]\n",
            "accuracy = : 0.9122807017543859\n"
          ]
        },
        {
          "output_type": "display_data",
          "data": {
            "text/plain": [
              "<Figure size 432x288 with 2 Axes>"
            ],
            "image/png": "[encoded data removed]"
          },
          "metadata": {
            "needs_background": "light"
          }
        }
      ]
    },
    {
      "cell_type": "markdown",
      "source": [
        "## 1 callback , batch size = 100, epochs = 100, optimizer = adam"
      ],
      "metadata": {
        "id": "b-vwMpurjl5z"
      }
    },
    {
      "cell_type": "code",
      "source": [
        "model2 = Sequential()\n",
        "model2.add(Dense(units=15,kernel_initializer='he_uniform',activation='relu',input_dim=input_size))\n",
        "model2.add(Dense(units=15,kernel_initializer='he_uniform',activation='relu'))\n",
        "model2.add(Dense(units=1,kernel_initializer='glorot_uniform',activation='sigmoid'))\n",
        "model2.compile(optimizer='adam',loss='binary_crossentropy',metrics=['accuracy'])"
      ],
      "metadata": {
        "id": "uODUlIq-a2oq"
      },
      "execution_count": null,
      "outputs": []
    },
    {
      "cell_type": "code",
      "source": [
        "start = time.time()\n",
        "history2 = model2.fit(X_train, y_train, validation_split=0.1, batch_size= 100, epochs= 100, callbacks=[callback1])\n",
        "end = time.time()\n",
        "print('training time:' , end-start)"
      ],
      "metadata": {
        "colab": {
          "base_uri": "https://localhost:8080/"
        },
        "id": "xjayMBM6Yw7L",
        "outputId": "78ba5549-ae0c-4395-efc1-edb7bce59a95"
      },
      "execution_count": null,
      "outputs": [
        {
          "output_type": "stream",
          "name": "stdout",
          "text": [
            "Epoch 1/100\n",
            "5/5 [==============================] - 1s 48ms/step - loss: 1.1074 - accuracy: 0.1614 - val_loss: 0.9464 - val_accuracy: 0.2826\n",
            "Epoch 2/100\n",
            "5/5 [==============================] - 0s 11ms/step - loss: 0.9990 - accuracy: 0.1858 - val_loss: 0.8557 - val_accuracy: 0.3478\n",
            "Epoch 3/100\n",
            "5/5 [==============================] - 0s 9ms/step - loss: 0.9046 - accuracy: 0.2543 - val_loss: 0.7775 - val_accuracy: 0.4783\n",
            "Epoch 4/100\n",
            "5/5 [==============================] - 0s 12ms/step - loss: 0.8180 - accuracy: 0.3203 - val_loss: 0.7097 - val_accuracy: 0.4783\n",
            "Epoch 5/100\n",
            "5/5 [==============================] - 0s 13ms/step - loss: 0.7408 - accuracy: 0.4303 - val_loss: 0.6505 - val_accuracy: 0.5652\n",
            "Epoch 6/100\n",
            "5/5 [==============================] - 0s 11ms/step - loss: 0.6725 - accuracy: 0.5306 - val_loss: 0.5985 - val_accuracy: 0.6522\n",
            "Epoch 7/100\n",
            "5/5 [==============================] - 0s 13ms/step - loss: 0.6099 - accuracy: 0.6333 - val_loss: 0.5527 - val_accuracy: 0.7174\n",
            "Epoch 8/100\n",
            "5/5 [==============================] - 0s 11ms/step - loss: 0.5578 - accuracy: 0.6993 - val_loss: 0.5122 - val_accuracy: 0.7391\n",
            "Epoch 9/100\n",
            "5/5 [==============================] - 0s 11ms/step - loss: 0.5128 - accuracy: 0.7751 - val_loss: 0.4762 - val_accuracy: 0.7826\n",
            "Epoch 10/100\n",
            "5/5 [==============================] - 0s 9ms/step - loss: 0.4735 - accuracy: 0.8215 - val_loss: 0.4447 - val_accuracy: 0.8043\n",
            "Epoch 11/100\n",
            "5/5 [==============================] - 0s 12ms/step - loss: 0.4398 - accuracy: 0.8631 - val_loss: 0.4164 - val_accuracy: 0.8261\n",
            "Epoch 12/100\n",
            "5/5 [==============================] - 0s 10ms/step - loss: 0.4104 - accuracy: 0.8900 - val_loss: 0.3909 - val_accuracy: 0.8478\n",
            "Epoch 13/100\n",
            "5/5 [==============================] - 0s 11ms/step - loss: 0.3844 - accuracy: 0.9046 - val_loss: 0.3689 - val_accuracy: 0.8696\n",
            "Epoch 14/100\n",
            "5/5 [==============================] - 0s 9ms/step - loss: 0.3608 - accuracy: 0.9193 - val_loss: 0.3492 - val_accuracy: 0.8696\n",
            "Epoch 15/100\n",
            "5/5 [==============================] - 0s 10ms/step - loss: 0.3406 - accuracy: 0.9242 - val_loss: 0.3311 - val_accuracy: 0.8696\n",
            "Epoch 16/100\n",
            "5/5 [==============================] - 0s 8ms/step - loss: 0.3224 - accuracy: 0.9315 - val_loss: 0.3150 - val_accuracy: 0.8696\n",
            "Epoch 17/100\n",
            "5/5 [==============================] - 0s 8ms/step - loss: 0.3057 - accuracy: 0.9364 - val_loss: 0.3004 - val_accuracy: 0.8696\n",
            "Epoch 18/100\n",
            "5/5 [==============================] - 0s 10ms/step - loss: 0.2905 - accuracy: 0.9413 - val_loss: 0.2867 - val_accuracy: 0.8696\n",
            "Epoch 19/100\n",
            "5/5 [==============================] - 0s 8ms/step - loss: 0.2765 - accuracy: 0.9413 - val_loss: 0.2738 - val_accuracy: 0.8913\n",
            "Epoch 20/100\n",
            "5/5 [==============================] - 0s 12ms/step - loss: 0.2635 - accuracy: 0.9487 - val_loss: 0.2615 - val_accuracy: 0.8913\n",
            "Epoch 21/100\n",
            "5/5 [==============================] - 0s 12ms/step - loss: 0.2508 - accuracy: 0.9511 - val_loss: 0.2506 - val_accuracy: 0.8913\n",
            "Epoch 22/100\n",
            "5/5 [==============================] - 0s 8ms/step - loss: 0.2399 - accuracy: 0.9511 - val_loss: 0.2404 - val_accuracy: 0.8913\n",
            "Epoch 23/100\n",
            "5/5 [==============================] - 0s 9ms/step - loss: 0.2292 - accuracy: 0.9535 - val_loss: 0.2310 - val_accuracy: 0.8913\n",
            "Epoch 24/100\n",
            "5/5 [==============================] - 0s 11ms/step - loss: 0.2196 - accuracy: 0.9560 - val_loss: 0.2220 - val_accuracy: 0.8913\n",
            "Epoch 25/100\n",
            "5/5 [==============================] - 0s 9ms/step - loss: 0.2109 - accuracy: 0.9560 - val_loss: 0.2137 - val_accuracy: 0.8913\n",
            "Epoch 26/100\n",
            "5/5 [==============================] - 0s 8ms/step - loss: 0.2025 - accuracy: 0.9560 - val_loss: 0.2061 - val_accuracy: 0.8913\n",
            "Epoch 27/100\n",
            "5/5 [==============================] - 0s 11ms/step - loss: 0.1947 - accuracy: 0.9560 - val_loss: 0.1994 - val_accuracy: 0.8913\n",
            "Epoch 28/100\n",
            "5/5 [==============================] - 0s 9ms/step - loss: 0.1875 - accuracy: 0.9560 - val_loss: 0.1927 - val_accuracy: 0.8913\n",
            "Epoch 29/100\n",
            "5/5 [==============================] - 0s 10ms/step - loss: 0.1806 - accuracy: 0.9560 - val_loss: 0.1858 - val_accuracy: 0.9348\n",
            "Epoch 30/100\n",
            "5/5 [==============================] - 0s 8ms/step - loss: 0.1736 - accuracy: 0.9609 - val_loss: 0.1783 - val_accuracy: 0.9348\n",
            "Epoch 31/100\n",
            "5/5 [==============================] - 0s 8ms/step - loss: 0.1671 - accuracy: 0.9658 - val_loss: 0.1712 - val_accuracy: 0.9348\n",
            "Epoch 32/100\n",
            "5/5 [==============================] - 0s 8ms/step - loss: 0.1610 - accuracy: 0.9658 - val_loss: 0.1647 - val_accuracy: 0.9348\n",
            "Epoch 33/100\n",
            "5/5 [==============================] - 0s 8ms/step - loss: 0.1554 - accuracy: 0.9658 - val_loss: 0.1586 - val_accuracy: 0.9565\n",
            "Epoch 34/100\n",
            "5/5 [==============================] - 0s 9ms/step - loss: 0.1498 - accuracy: 0.9658 - val_loss: 0.1534 - val_accuracy: 0.9565\n",
            "Epoch 35/100\n",
            "5/5 [==============================] - 0s 11ms/step - loss: 0.1449 - accuracy: 0.9658 - val_loss: 0.1487 - val_accuracy: 0.9565\n",
            "Epoch 36/100\n",
            "5/5 [==============================] - 0s 10ms/step - loss: 0.1400 - accuracy: 0.9658 - val_loss: 0.1441 - val_accuracy: 0.9783\n",
            "Epoch 37/100\n",
            "5/5 [==============================] - 0s 9ms/step - loss: 0.1356 - accuracy: 0.9658 - val_loss: 0.1403 - val_accuracy: 0.9783\n",
            "Epoch 38/100\n",
            "5/5 [==============================] - 0s 11ms/step - loss: 0.1317 - accuracy: 0.9658 - val_loss: 0.1364 - val_accuracy: 0.9783\n",
            "Epoch 39/100\n",
            "5/5 [==============================] - 0s 11ms/step - loss: 0.1278 - accuracy: 0.9658 - val_loss: 0.1321 - val_accuracy: 0.9783\n",
            "Epoch 40/100\n",
            "5/5 [==============================] - 0s 9ms/step - loss: 0.1241 - accuracy: 0.9633 - val_loss: 0.1277 - val_accuracy: 0.9783\n",
            "Epoch 41/100\n",
            "5/5 [==============================] - 0s 11ms/step - loss: 0.1207 - accuracy: 0.9658 - val_loss: 0.1239 - val_accuracy: 0.9783\n",
            "Epoch 42/100\n",
            "5/5 [==============================] - 0s 10ms/step - loss: 0.1174 - accuracy: 0.9658 - val_loss: 0.1199 - val_accuracy: 1.0000\n",
            "Epoch 43/100\n",
            "5/5 [==============================] - 0s 10ms/step - loss: 0.1142 - accuracy: 0.9658 - val_loss: 0.1159 - val_accuracy: 1.0000\n",
            "Epoch 44/100\n",
            "5/5 [==============================] - 0s 13ms/step - loss: 0.1112 - accuracy: 0.9682 - val_loss: 0.1125 - val_accuracy: 1.0000\n",
            "Epoch 45/100\n",
            "5/5 [==============================] - 0s 11ms/step - loss: 0.1084 - accuracy: 0.9707 - val_loss: 0.1095 - val_accuracy: 1.0000\n",
            "Epoch 46/100\n",
            "5/5 [==============================] - 0s 10ms/step - loss: 0.1058 - accuracy: 0.9707 - val_loss: 0.1067 - val_accuracy: 1.0000\n",
            "Epoch 47/100\n",
            "5/5 [==============================] - 0s 10ms/step - loss: 0.1035 - accuracy: 0.9707 - val_loss: 0.1043 - val_accuracy: 1.0000\n",
            "Epoch 48/100\n",
            "5/5 [==============================] - 0s 11ms/step - loss: 0.1011 - accuracy: 0.9731 - val_loss: 0.1021 - val_accuracy: 1.0000\n",
            "Epoch 49/100\n",
            "5/5 [==============================] - 0s 13ms/step - loss: 0.0989 - accuracy: 0.9756 - val_loss: 0.0994 - val_accuracy: 1.0000\n",
            "Epoch 50/100\n",
            "5/5 [==============================] - 0s 10ms/step - loss: 0.0966 - accuracy: 0.9756 - val_loss: 0.0971 - val_accuracy: 1.0000\n",
            "Epoch 51/100\n",
            "5/5 [==============================] - 0s 12ms/step - loss: 0.0945 - accuracy: 0.9756 - val_loss: 0.0952 - val_accuracy: 1.0000\n",
            "Epoch 52/100\n",
            "5/5 [==============================] - 0s 11ms/step - loss: 0.0923 - accuracy: 0.9756 - val_loss: 0.0930 - val_accuracy: 1.0000\n",
            "Epoch 53/100\n",
            "5/5 [==============================] - 0s 13ms/step - loss: 0.0902 - accuracy: 0.9756 - val_loss: 0.0917 - val_accuracy: 1.0000\n",
            "Epoch 54/100\n",
            "5/5 [==============================] - 0s 11ms/step - loss: 0.0878 - accuracy: 0.9756 - val_loss: 0.0909 - val_accuracy: 1.0000\n",
            "Epoch 55/100\n",
            "5/5 [==============================] - 0s 11ms/step - loss: 0.0859 - accuracy: 0.9756 - val_loss: 0.0898 - val_accuracy: 1.0000\n",
            "Epoch 56/100\n",
            "5/5 [==============================] - 0s 12ms/step - loss: 0.0843 - accuracy: 0.9756 - val_loss: 0.0887 - val_accuracy: 1.0000\n",
            "Epoch 57/100\n",
            "5/5 [==============================] - 0s 10ms/step - loss: 0.0827 - accuracy: 0.9756 - val_loss: 0.0873 - val_accuracy: 1.0000\n",
            "Epoch 58/100\n",
            "5/5 [==============================] - 0s 12ms/step - loss: 0.0813 - accuracy: 0.9756 - val_loss: 0.0860 - val_accuracy: 1.0000\n",
            "Epoch 59/100\n",
            "5/5 [==============================] - 0s 12ms/step - loss: 0.0800 - accuracy: 0.9780 - val_loss: 0.0843 - val_accuracy: 1.0000\n",
            "Epoch 60/100\n",
            "5/5 [==============================] - 0s 13ms/step - loss: 0.0786 - accuracy: 0.9780 - val_loss: 0.0825 - val_accuracy: 1.0000\n",
            "Epoch 61/100\n",
            "5/5 [==============================] - 0s 10ms/step - loss: 0.0773 - accuracy: 0.9780 - val_loss: 0.0805 - val_accuracy: 1.0000\n",
            "Epoch 62/100\n",
            "5/5 [==============================] - 0s 11ms/step - loss: 0.0761 - accuracy: 0.9780 - val_loss: 0.0787 - val_accuracy: 1.0000\n",
            "Epoch 63/100\n",
            "5/5 [==============================] - 0s 13ms/step - loss: 0.0748 - accuracy: 0.9780 - val_loss: 0.0763 - val_accuracy: 1.0000\n",
            "Epoch 64/100\n",
            "5/5 [==============================] - 0s 10ms/step - loss: 0.0736 - accuracy: 0.9780 - val_loss: 0.0748 - val_accuracy: 1.0000\n",
            "Epoch 65/100\n",
            "5/5 [==============================] - 0s 12ms/step - loss: 0.0726 - accuracy: 0.9780 - val_loss: 0.0734 - val_accuracy: 1.0000\n",
            "Epoch 66/100\n",
            "5/5 [==============================] - 0s 10ms/step - loss: 0.0715 - accuracy: 0.9804 - val_loss: 0.0719 - val_accuracy: 1.0000\n",
            "Epoch 67/100\n",
            "5/5 [==============================] - 0s 10ms/step - loss: 0.0705 - accuracy: 0.9804 - val_loss: 0.0705 - val_accuracy: 1.0000\n",
            "Epoch 68/100\n",
            "5/5 [==============================] - 0s 11ms/step - loss: 0.0694 - accuracy: 0.9829 - val_loss: 0.0694 - val_accuracy: 1.0000\n",
            "Epoch 69/100\n",
            "5/5 [==============================] - 0s 10ms/step - loss: 0.0685 - accuracy: 0.9829 - val_loss: 0.0686 - val_accuracy: 1.0000\n",
            "Epoch 70/100\n",
            "5/5 [==============================] - 0s 10ms/step - loss: 0.0675 - accuracy: 0.9829 - val_loss: 0.0686 - val_accuracy: 1.0000\n",
            "Epoch 71/100\n",
            "5/5 [==============================] - 0s 11ms/step - loss: 0.0666 - accuracy: 0.9829 - val_loss: 0.0683 - val_accuracy: 1.0000\n",
            "Epoch 72/100\n",
            "5/5 [==============================] - 0s 11ms/step - loss: 0.0656 - accuracy: 0.9829 - val_loss: 0.0685 - val_accuracy: 1.0000\n",
            "Epoch 73/100\n",
            "5/5 [==============================] - 0s 15ms/step - loss: 0.0649 - accuracy: 0.9829 - val_loss: 0.0689 - val_accuracy: 1.0000\n",
            "Epoch 74/100\n",
            "5/5 [==============================] - 0s 10ms/step - loss: 0.0638 - accuracy: 0.9829 - val_loss: 0.0689 - val_accuracy: 1.0000\n",
            "training time: 4.9283528327941895\n"
          ]
        }
      ]
    },
    {
      "cell_type": "code",
      "source": [
        "evaluate(X_test, y_test, model2)\n",
        "plot_loss(history2)"
      ],
      "metadata": {
        "colab": {
          "base_uri": "https://localhost:8080/",
          "height": 348
        },
        "id": "ktjhMg38Z-wA",
        "outputId": "77aab80a-16e4-43b3-ceec-df07dceb8071"
      },
      "execution_count": null,
      "outputs": [
        {
          "output_type": "stream",
          "name": "stdout",
          "text": [
            "[[43  4]\n",
            " [ 4 63]]\n",
            "accuracy = : 0.9298245614035088\n"
          ]
        },
        {
          "output_type": "display_data",
          "data": {
            "text/plain": [
              "<Figure size 432x288 with 2 Axes>"
            ],
            "image/png": "[encoded data removed]"
          },
          "metadata": {
            "needs_background": "light"
          }
        }
      ]
    },
    {
      "cell_type": "markdown",
      "source": [
        "## 1 callbacks , batch size = 10, epochs = 100, optimizer = adam"
      ],
      "metadata": {
        "id": "daq89utxjtyA"
      }
    },
    {
      "cell_type": "code",
      "source": [
        "model3 = Sequential()\n",
        "model3.add(Dense(units=15,kernel_initializer='he_uniform',activation='relu',input_dim=input_size))\n",
        "model3.add(Dense(units=15,kernel_initializer='he_uniform',activation='relu'))\n",
        "model3.add(Dense(units=1,kernel_initializer='glorot_uniform',activation='sigmoid'))\n",
        "model3.compile(optimizer='adam',loss='binary_crossentropy',metrics=['accuracy'])\n",
        "start = time.time()\n",
        "history3 = model3.fit(X_train, y_train, validation_split=0.1, batch_size= 10, epochs= 100, callbacks=[callback1])\n",
        "end = time.time()\n",
        "print('training time:' , end-start)"
      ],
      "metadata": {
        "colab": {
          "base_uri": "https://localhost:8080/"
        },
        "id": "siRNxRqsjxrV",
        "outputId": "8c70f022-63f2-421d-e78c-da32d9b2b88f"
      },
      "execution_count": null,
      "outputs": [
        {
          "output_type": "stream",
          "name": "stdout",
          "text": [
            "Epoch 1/100\n",
            "41/41 [==============================] - 1s 6ms/step - loss: 0.9623 - accuracy: 0.2714 - val_loss: 0.7309 - val_accuracy: 0.5000\n",
            "Epoch 2/100\n",
            "41/41 [==============================] - 0s 3ms/step - loss: 0.5572 - accuracy: 0.6699 - val_loss: 0.5185 - val_accuracy: 0.7826\n",
            "Epoch 3/100\n",
            "41/41 [==============================] - 0s 3ms/step - loss: 0.3954 - accuracy: 0.8753 - val_loss: 0.3991 - val_accuracy: 0.9130\n",
            "Epoch 4/100\n",
            "41/41 [==============================] - 0s 3ms/step - loss: 0.2798 - accuracy: 0.9169 - val_loss: 0.3044 - val_accuracy: 0.9565\n",
            "Epoch 5/100\n",
            "41/41 [==============================] - 0s 2ms/step - loss: 0.2033 - accuracy: 0.9462 - val_loss: 0.2499 - val_accuracy: 0.9565\n",
            "Epoch 6/100\n",
            "41/41 [==============================] - 0s 3ms/step - loss: 0.1630 - accuracy: 0.9511 - val_loss: 0.2144 - val_accuracy: 0.9565\n",
            "Epoch 7/100\n",
            "41/41 [==============================] - 0s 3ms/step - loss: 0.1377 - accuracy: 0.9609 - val_loss: 0.1864 - val_accuracy: 0.9348\n",
            "Epoch 8/100\n",
            "41/41 [==============================] - 0s 2ms/step - loss: 0.1191 - accuracy: 0.9658 - val_loss: 0.1656 - val_accuracy: 0.9348\n",
            "Epoch 9/100\n",
            "41/41 [==============================] - 0s 3ms/step - loss: 0.1064 - accuracy: 0.9682 - val_loss: 0.1510 - val_accuracy: 0.9348\n",
            "Epoch 10/100\n",
            "41/41 [==============================] - 0s 3ms/step - loss: 0.0970 - accuracy: 0.9731 - val_loss: 0.1446 - val_accuracy: 0.9565\n",
            "Epoch 11/100\n",
            "41/41 [==============================] - 0s 3ms/step - loss: 0.0896 - accuracy: 0.9731 - val_loss: 0.1358 - val_accuracy: 0.9565\n",
            "Epoch 12/100\n",
            "41/41 [==============================] - 0s 3ms/step - loss: 0.0839 - accuracy: 0.9756 - val_loss: 0.1315 - val_accuracy: 0.9348\n",
            "Epoch 13/100\n",
            "41/41 [==============================] - 0s 2ms/step - loss: 0.0788 - accuracy: 0.9804 - val_loss: 0.1250 - val_accuracy: 0.9348\n",
            "Epoch 14/100\n",
            "41/41 [==============================] - 0s 2ms/step - loss: 0.0745 - accuracy: 0.9804 - val_loss: 0.1238 - val_accuracy: 0.9348\n",
            "Epoch 15/100\n",
            "41/41 [==============================] - 0s 2ms/step - loss: 0.0706 - accuracy: 0.9804 - val_loss: 0.1179 - val_accuracy: 0.9348\n",
            "Epoch 16/100\n",
            "41/41 [==============================] - 0s 3ms/step - loss: 0.0674 - accuracy: 0.9829 - val_loss: 0.1184 - val_accuracy: 0.9348\n",
            "Epoch 17/100\n",
            "41/41 [==============================] - 0s 3ms/step - loss: 0.0640 - accuracy: 0.9829 - val_loss: 0.1137 - val_accuracy: 0.9348\n",
            "Epoch 18/100\n",
            "41/41 [==============================] - 0s 3ms/step - loss: 0.0610 - accuracy: 0.9853 - val_loss: 0.1145 - val_accuracy: 0.9348\n",
            "Epoch 19/100\n",
            "41/41 [==============================] - 0s 3ms/step - loss: 0.0579 - accuracy: 0.9878 - val_loss: 0.1107 - val_accuracy: 0.9348\n",
            "Epoch 20/100\n",
            "41/41 [==============================] - 0s 4ms/step - loss: 0.0557 - accuracy: 0.9878 - val_loss: 0.1091 - val_accuracy: 0.9348\n",
            "Epoch 21/100\n",
            "41/41 [==============================] - 0s 3ms/step - loss: 0.0530 - accuracy: 0.9878 - val_loss: 0.1089 - val_accuracy: 0.9348\n",
            "Epoch 22/100\n",
            "41/41 [==============================] - 0s 3ms/step - loss: 0.0512 - accuracy: 0.9878 - val_loss: 0.1046 - val_accuracy: 0.9348\n",
            "Epoch 23/100\n",
            "41/41 [==============================] - 0s 3ms/step - loss: 0.0488 - accuracy: 0.9878 - val_loss: 0.1053 - val_accuracy: 0.9348\n",
            "Epoch 24/100\n",
            "41/41 [==============================] - 0s 4ms/step - loss: 0.0470 - accuracy: 0.9878 - val_loss: 0.1029 - val_accuracy: 0.9348\n",
            "Epoch 25/100\n",
            "41/41 [==============================] - 0s 3ms/step - loss: 0.0446 - accuracy: 0.9878 - val_loss: 0.1014 - val_accuracy: 0.9348\n",
            "Epoch 26/100\n",
            "41/41 [==============================] - 0s 3ms/step - loss: 0.0426 - accuracy: 0.9878 - val_loss: 0.0966 - val_accuracy: 0.9348\n",
            "Epoch 27/100\n",
            "41/41 [==============================] - 0s 4ms/step - loss: 0.0409 - accuracy: 0.9878 - val_loss: 0.0953 - val_accuracy: 0.9348\n",
            "Epoch 28/100\n",
            "41/41 [==============================] - 0s 3ms/step - loss: 0.0395 - accuracy: 0.9878 - val_loss: 0.0948 - val_accuracy: 0.9348\n",
            "Epoch 29/100\n",
            "41/41 [==============================] - 0s 3ms/step - loss: 0.0375 - accuracy: 0.9878 - val_loss: 0.0918 - val_accuracy: 0.9348\n",
            "Epoch 30/100\n",
            "41/41 [==============================] - 0s 3ms/step - loss: 0.0360 - accuracy: 0.9878 - val_loss: 0.0898 - val_accuracy: 0.9348\n",
            "Epoch 31/100\n",
            "41/41 [==============================] - 0s 3ms/step - loss: 0.0346 - accuracy: 0.9878 - val_loss: 0.0895 - val_accuracy: 0.9348\n",
            "Epoch 32/100\n",
            "41/41 [==============================] - 0s 3ms/step - loss: 0.0333 - accuracy: 0.9878 - val_loss: 0.0889 - val_accuracy: 0.9348\n",
            "Epoch 33/100\n",
            "41/41 [==============================] - 0s 3ms/step - loss: 0.0323 - accuracy: 0.9902 - val_loss: 0.0838 - val_accuracy: 0.9565\n",
            "Epoch 34/100\n",
            "41/41 [==============================] - 0s 3ms/step - loss: 0.0313 - accuracy: 0.9878 - val_loss: 0.0837 - val_accuracy: 0.9565\n",
            "Epoch 35/100\n",
            "41/41 [==============================] - 0s 3ms/step - loss: 0.0296 - accuracy: 0.9902 - val_loss: 0.0841 - val_accuracy: 0.9565\n",
            "Epoch 36/100\n",
            "41/41 [==============================] - 0s 2ms/step - loss: 0.0284 - accuracy: 0.9902 - val_loss: 0.0788 - val_accuracy: 0.9565\n",
            "Epoch 37/100\n",
            "41/41 [==============================] - 0s 3ms/step - loss: 0.0273 - accuracy: 0.9902 - val_loss: 0.0822 - val_accuracy: 0.9565\n",
            "Epoch 38/100\n",
            "41/41 [==============================] - 0s 3ms/step - loss: 0.0260 - accuracy: 0.9902 - val_loss: 0.0788 - val_accuracy: 0.9565\n",
            "Epoch 39/100\n",
            "41/41 [==============================] - 0s 3ms/step - loss: 0.0258 - accuracy: 0.9902 - val_loss: 0.0756 - val_accuracy: 0.9565\n",
            "Epoch 40/100\n",
            "41/41 [==============================] - 0s 3ms/step - loss: 0.0244 - accuracy: 0.9927 - val_loss: 0.0756 - val_accuracy: 0.9565\n",
            "Epoch 41/100\n",
            "41/41 [==============================] - 0s 3ms/step - loss: 0.0235 - accuracy: 0.9902 - val_loss: 0.0796 - val_accuracy: 0.9565\n",
            "Epoch 42/100\n",
            "41/41 [==============================] - 0s 4ms/step - loss: 0.0225 - accuracy: 0.9927 - val_loss: 0.0787 - val_accuracy: 0.9565\n",
            "Epoch 43/100\n",
            "41/41 [==============================] - 0s 4ms/step - loss: 0.0216 - accuracy: 0.9927 - val_loss: 0.0771 - val_accuracy: 0.9565\n",
            "training time: 6.401289701461792\n"
          ]
        }
      ]
    },
    {
      "cell_type": "code",
      "source": [
        "evaluate(X_test, y_test, model3)\n",
        "plot_loss(history3)"
      ],
      "metadata": {
        "colab": {
          "base_uri": "https://localhost:8080/",
          "height": 348
        },
        "id": "_clCn3sUkFPV",
        "outputId": "26ec199b-b900-4a21-94fc-6a5167d42c2a"
      },
      "execution_count": null,
      "outputs": [
        {
          "output_type": "stream",
          "name": "stdout",
          "text": [
            "[[46  1]\n",
            " [ 2 65]]\n",
            "accuracy = : 0.9736842105263158\n"
          ]
        },
        {
          "output_type": "display_data",
          "data": {
            "text/plain": [
              "<Figure size 432x288 with 2 Axes>"
            ],
            "image/png": "[encoded data removed]"
          },
          "metadata": {
            "needs_background": "light"
          }
        }
      ]
    },
    {
      "cell_type": "markdown",
      "source": [
        "# changing optimizer"
      ],
      "metadata": {
        "id": "LpEufaP2vCMh"
      }
    },
    {
      "cell_type": "markdown",
      "source": [
        "## RMS prop"
      ],
      "metadata": {
        "id": "Auwmh1_ovRUL"
      }
    },
    {
      "cell_type": "code",
      "source": [
        "model4 = Sequential()\n",
        "model4.add(Dense(units=15,kernel_initializer='he_uniform',activation='relu',input_dim=input_size))\n",
        "model4.add(Dense(units=15,kernel_initializer='he_uniform',activation='relu'))\n",
        "model4.add(Dense(units=1,kernel_initializer='glorot_uniform',activation='sigmoid'))\n",
        "model4.compile(optimizer='RMSprop',loss='binary_crossentropy',metrics=['accuracy'])\n",
        "start = time.time()\n",
        "history4 = model4.fit(X_train, y_train, validation_split=0.1, batch_size= 100, epochs= 100, callbacks=[callback1])\n",
        "end = time.time()\n",
        "print('training time:' , end-start)"
      ],
      "metadata": {
        "colab": {
          "base_uri": "https://localhost:8080/"
        },
        "id": "SHxs1wNivF2F",
        "outputId": "8575a33e-c7fa-4b72-d606-5683f13e189c"
      },
      "execution_count": null,
      "outputs": [
        {
          "output_type": "stream",
          "name": "stdout",
          "text": [
            "Epoch 1/100\n",
            "5/5 [==============================] - 1s 49ms/step - loss: 0.4572 - accuracy: 0.8606 - val_loss: 0.4414 - val_accuracy: 0.8696\n",
            "Epoch 2/100\n",
            "5/5 [==============================] - 0s 10ms/step - loss: 0.3695 - accuracy: 0.9144 - val_loss: 0.3849 - val_accuracy: 0.9130\n",
            "Epoch 3/100\n",
            "5/5 [==============================] - 0s 9ms/step - loss: 0.3214 - accuracy: 0.9291 - val_loss: 0.3437 - val_accuracy: 0.9348\n",
            "Epoch 4/100\n",
            "5/5 [==============================] - 0s 10ms/step - loss: 0.2860 - accuracy: 0.9340 - val_loss: 0.3108 - val_accuracy: 0.9565\n",
            "Epoch 5/100\n",
            "5/5 [==============================] - 0s 9ms/step - loss: 0.2584 - accuracy: 0.9364 - val_loss: 0.2817 - val_accuracy: 0.9565\n",
            "Epoch 6/100\n",
            "5/5 [==============================] - 0s 10ms/step - loss: 0.2348 - accuracy: 0.9438 - val_loss: 0.2562 - val_accuracy: 0.9565\n",
            "Epoch 7/100\n",
            "5/5 [==============================] - 0s 9ms/step - loss: 0.2147 - accuracy: 0.9462 - val_loss: 0.2358 - val_accuracy: 0.9565\n",
            "Epoch 8/100\n",
            "5/5 [==============================] - 0s 9ms/step - loss: 0.1987 - accuracy: 0.9511 - val_loss: 0.2169 - val_accuracy: 0.9565\n",
            "Epoch 9/100\n",
            "5/5 [==============================] - 0s 9ms/step - loss: 0.1844 - accuracy: 0.9560 - val_loss: 0.2006 - val_accuracy: 0.9565\n",
            "Epoch 10/100\n",
            "5/5 [==============================] - 0s 9ms/step - loss: 0.1722 - accuracy: 0.9584 - val_loss: 0.1884 - val_accuracy: 0.9565\n",
            "Epoch 11/100\n",
            "5/5 [==============================] - 0s 11ms/step - loss: 0.1614 - accuracy: 0.9584 - val_loss: 0.1751 - val_accuracy: 0.9565\n",
            "Epoch 12/100\n",
            "5/5 [==============================] - 0s 10ms/step - loss: 0.1520 - accuracy: 0.9609 - val_loss: 0.1666 - val_accuracy: 0.9565\n",
            "Epoch 13/100\n",
            "5/5 [==============================] - 0s 10ms/step - loss: 0.1441 - accuracy: 0.9609 - val_loss: 0.1557 - val_accuracy: 0.9565\n",
            "Epoch 14/100\n",
            "5/5 [==============================] - 0s 8ms/step - loss: 0.1360 - accuracy: 0.9633 - val_loss: 0.1464 - val_accuracy: 0.9565\n",
            "Epoch 15/100\n",
            "5/5 [==============================] - 0s 11ms/step - loss: 0.1293 - accuracy: 0.9658 - val_loss: 0.1406 - val_accuracy: 0.9348\n",
            "Epoch 16/100\n",
            "5/5 [==============================] - 0s 11ms/step - loss: 0.1238 - accuracy: 0.9658 - val_loss: 0.1326 - val_accuracy: 0.9348\n",
            "Epoch 17/100\n",
            "5/5 [==============================] - 0s 9ms/step - loss: 0.1183 - accuracy: 0.9658 - val_loss: 0.1251 - val_accuracy: 0.9348\n",
            "Epoch 18/100\n",
            "5/5 [==============================] - 0s 10ms/step - loss: 0.1131 - accuracy: 0.9658 - val_loss: 0.1182 - val_accuracy: 0.9565\n",
            "Epoch 19/100\n",
            "5/5 [==============================] - 0s 10ms/step - loss: 0.1077 - accuracy: 0.9682 - val_loss: 0.1104 - val_accuracy: 0.9565\n",
            "Epoch 20/100\n",
            "5/5 [==============================] - 0s 11ms/step - loss: 0.1026 - accuracy: 0.9682 - val_loss: 0.1053 - val_accuracy: 0.9783\n",
            "Epoch 21/100\n",
            "5/5 [==============================] - 0s 8ms/step - loss: 0.0986 - accuracy: 0.9682 - val_loss: 0.1017 - val_accuracy: 0.9783\n",
            "Epoch 22/100\n",
            "5/5 [==============================] - 0s 10ms/step - loss: 0.0953 - accuracy: 0.9731 - val_loss: 0.0997 - val_accuracy: 0.9783\n",
            "Epoch 23/100\n",
            "5/5 [==============================] - 0s 14ms/step - loss: 0.0922 - accuracy: 0.9804 - val_loss: 0.0953 - val_accuracy: 0.9783\n",
            "Epoch 24/100\n",
            "5/5 [==============================] - 0s 7ms/step - loss: 0.0895 - accuracy: 0.9829 - val_loss: 0.0918 - val_accuracy: 0.9783\n",
            "Epoch 25/100\n",
            "5/5 [==============================] - 0s 8ms/step - loss: 0.0868 - accuracy: 0.9829 - val_loss: 0.0881 - val_accuracy: 0.9783\n",
            "Epoch 26/100\n",
            "5/5 [==============================] - 0s 8ms/step - loss: 0.0846 - accuracy: 0.9829 - val_loss: 0.0853 - val_accuracy: 0.9783\n",
            "Epoch 27/100\n",
            "5/5 [==============================] - 0s 9ms/step - loss: 0.0823 - accuracy: 0.9829 - val_loss: 0.0830 - val_accuracy: 0.9783\n",
            "Epoch 28/100\n",
            "5/5 [==============================] - 0s 13ms/step - loss: 0.0801 - accuracy: 0.9829 - val_loss: 0.0802 - val_accuracy: 0.9783\n",
            "Epoch 29/100\n",
            "5/5 [==============================] - 0s 8ms/step - loss: 0.0779 - accuracy: 0.9829 - val_loss: 0.0748 - val_accuracy: 0.9783\n",
            "Epoch 30/100\n",
            "5/5 [==============================] - 0s 9ms/step - loss: 0.0758 - accuracy: 0.9829 - val_loss: 0.0718 - val_accuracy: 0.9783\n",
            "Epoch 31/100\n",
            "5/5 [==============================] - 0s 9ms/step - loss: 0.0742 - accuracy: 0.9829 - val_loss: 0.0712 - val_accuracy: 0.9783\n",
            "Epoch 32/100\n",
            "5/5 [==============================] - 0s 8ms/step - loss: 0.0717 - accuracy: 0.9829 - val_loss: 0.0699 - val_accuracy: 0.9783\n",
            "Epoch 33/100\n",
            "5/5 [==============================] - 0s 8ms/step - loss: 0.0701 - accuracy: 0.9829 - val_loss: 0.0698 - val_accuracy: 0.9783\n",
            "Epoch 34/100\n",
            "5/5 [==============================] - 0s 8ms/step - loss: 0.0684 - accuracy: 0.9829 - val_loss: 0.0658 - val_accuracy: 0.9783\n",
            "Epoch 35/100\n",
            "5/5 [==============================] - 0s 8ms/step - loss: 0.0674 - accuracy: 0.9829 - val_loss: 0.0640 - val_accuracy: 0.9783\n",
            "Epoch 36/100\n",
            "5/5 [==============================] - 0s 9ms/step - loss: 0.0660 - accuracy: 0.9829 - val_loss: 0.0635 - val_accuracy: 0.9783\n",
            "Epoch 37/100\n",
            "5/5 [==============================] - 0s 8ms/step - loss: 0.0642 - accuracy: 0.9829 - val_loss: 0.0652 - val_accuracy: 0.9783\n",
            "Epoch 38/100\n",
            "5/5 [==============================] - 0s 8ms/step - loss: 0.0629 - accuracy: 0.9829 - val_loss: 0.0628 - val_accuracy: 0.9783\n",
            "Epoch 39/100\n",
            "5/5 [==============================] - 0s 8ms/step - loss: 0.0618 - accuracy: 0.9829 - val_loss: 0.0616 - val_accuracy: 0.9783\n",
            "Epoch 40/100\n",
            "5/5 [==============================] - 0s 8ms/step - loss: 0.0609 - accuracy: 0.9829 - val_loss: 0.0617 - val_accuracy: 0.9783\n",
            "Epoch 41/100\n",
            "5/5 [==============================] - 0s 9ms/step - loss: 0.0600 - accuracy: 0.9829 - val_loss: 0.0591 - val_accuracy: 0.9783\n",
            "Epoch 42/100\n",
            "5/5 [==============================] - 0s 8ms/step - loss: 0.0589 - accuracy: 0.9829 - val_loss: 0.0578 - val_accuracy: 0.9783\n",
            "Epoch 43/100\n",
            "5/5 [==============================] - 0s 7ms/step - loss: 0.0578 - accuracy: 0.9829 - val_loss: 0.0615 - val_accuracy: 0.9783\n",
            "Epoch 44/100\n",
            "5/5 [==============================] - 0s 9ms/step - loss: 0.0568 - accuracy: 0.9829 - val_loss: 0.0648 - val_accuracy: 0.9783\n",
            "Epoch 45/100\n",
            "5/5 [==============================] - 0s 8ms/step - loss: 0.0565 - accuracy: 0.9829 - val_loss: 0.0635 - val_accuracy: 0.9783\n",
            "training time: 3.719090461730957\n"
          ]
        }
      ]
    },
    {
      "cell_type": "code",
      "source": [
        "evaluate(X_test, y_test, model4)\n",
        "plot_loss(history4)"
      ],
      "metadata": {
        "colab": {
          "base_uri": "https://localhost:8080/",
          "height": 348
        },
        "id": "zdD1O0NTwK_j",
        "outputId": "e9fcb526-9cdf-4163-b718-a1a28ca65774"
      },
      "execution_count": null,
      "outputs": [
        {
          "output_type": "stream",
          "name": "stdout",
          "text": [
            "[[46  1]\n",
            " [ 4 63]]\n",
            "accuracy = : 0.956140350877193\n"
          ]
        },
        {
          "output_type": "display_data",
          "data": {
            "text/plain": [
              "<Figure size 432x288 with 2 Axes>"
            ],
            "image/png": "[encoded data removed]"
          },
          "metadata": {
            "needs_background": "light"
          }
        }
      ]
    },
    {
      "cell_type": "markdown",
      "source": [
        "## SGD"
      ],
      "metadata": {
        "id": "br2ti5SAx1pL"
      }
    },
    {
      "cell_type": "code",
      "source": [
        "model5 = Sequential()\n",
        "model5.add(Dense(units=15,kernel_initializer='he_uniform',activation='relu',input_dim=input_size))\n",
        "model5.add(Dense(units=15,kernel_initializer='he_uniform',activation='relu'))\n",
        "model5.add(Dense(units=1,kernel_initializer='glorot_uniform',activation='sigmoid'))\n",
        "model5.compile(optimizer='SGD',loss='binary_crossentropy',metrics=['accuracy'])\n",
        "start = time.time()\n",
        "history5 = model5.fit(X_train, y_train, validation_split=0.1, batch_size= 100, epochs= 100, callbacks=[callback1])\n",
        "end = time.time()\n",
        "print('training time:' , end-start)"
      ],
      "metadata": {
        "colab": {
          "base_uri": "https://localhost:8080/"
        },
        "id": "YgIrSO7Ix3dX",
        "outputId": "ee97152b-35cf-4ce1-8937-3690bd241151"
      },
      "execution_count": null,
      "outputs": [
        {
          "output_type": "stream",
          "name": "stdout",
          "text": [
            "Epoch 1/100\n",
            "5/5 [==============================] - 1s 79ms/step - loss: 0.7577 - accuracy: 0.5672 - val_loss: 0.6908 - val_accuracy: 0.5870\n",
            "Epoch 2/100\n",
            "5/5 [==============================] - 0s 16ms/step - loss: 0.7156 - accuracy: 0.5966 - val_loss: 0.6625 - val_accuracy: 0.5870\n",
            "Epoch 3/100\n",
            "5/5 [==============================] - 0s 14ms/step - loss: 0.6835 - accuracy: 0.6112 - val_loss: 0.6324 - val_accuracy: 0.5870\n",
            "Epoch 4/100\n",
            "5/5 [==============================] - 0s 11ms/step - loss: 0.6509 - accuracy: 0.6235 - val_loss: 0.6096 - val_accuracy: 0.6087\n",
            "Epoch 5/100\n",
            "5/5 [==============================] - 0s 11ms/step - loss: 0.6257 - accuracy: 0.6381 - val_loss: 0.5885 - val_accuracy: 0.6087\n",
            "Epoch 6/100\n",
            "5/5 [==============================] - 0s 13ms/step - loss: 0.6027 - accuracy: 0.6430 - val_loss: 0.5708 - val_accuracy: 0.6087\n",
            "Epoch 7/100\n",
            "5/5 [==============================] - 0s 11ms/step - loss: 0.5831 - accuracy: 0.6504 - val_loss: 0.5535 - val_accuracy: 0.6522\n",
            "Epoch 8/100\n",
            "5/5 [==============================] - 0s 15ms/step - loss: 0.5633 - accuracy: 0.6553 - val_loss: 0.5385 - val_accuracy: 0.6522\n",
            "Epoch 9/100\n",
            "5/5 [==============================] - 0s 12ms/step - loss: 0.5462 - accuracy: 0.6699 - val_loss: 0.5245 - val_accuracy: 0.6522\n",
            "Epoch 10/100\n",
            "5/5 [==============================] - 0s 15ms/step - loss: 0.5302 - accuracy: 0.6724 - val_loss: 0.5119 - val_accuracy: 0.6522\n",
            "Epoch 11/100\n",
            "5/5 [==============================] - 0s 14ms/step - loss: 0.5158 - accuracy: 0.6773 - val_loss: 0.5003 - val_accuracy: 0.6739\n",
            "Epoch 12/100\n",
            "5/5 [==============================] - 0s 12ms/step - loss: 0.5016 - accuracy: 0.6822 - val_loss: 0.4900 - val_accuracy: 0.6957\n",
            "Epoch 13/100\n",
            "5/5 [==============================] - 0s 15ms/step - loss: 0.4894 - accuracy: 0.6895 - val_loss: 0.4799 - val_accuracy: 0.7174\n",
            "Epoch 14/100\n",
            "5/5 [==============================] - 0s 12ms/step - loss: 0.4768 - accuracy: 0.7066 - val_loss: 0.4698 - val_accuracy: 0.7391\n",
            "Epoch 15/100\n",
            "5/5 [==============================] - 0s 14ms/step - loss: 0.4643 - accuracy: 0.7237 - val_loss: 0.4607 - val_accuracy: 0.7391\n",
            "Epoch 16/100\n",
            "5/5 [==============================] - 0s 22ms/step - loss: 0.4539 - accuracy: 0.7384 - val_loss: 0.4515 - val_accuracy: 0.7391\n",
            "Epoch 17/100\n",
            "5/5 [==============================] - 0s 16ms/step - loss: 0.4436 - accuracy: 0.7482 - val_loss: 0.4433 - val_accuracy: 0.7826\n",
            "Epoch 18/100\n",
            "5/5 [==============================] - 0s 12ms/step - loss: 0.4346 - accuracy: 0.7604 - val_loss: 0.4350 - val_accuracy: 0.7826\n",
            "Epoch 19/100\n",
            "5/5 [==============================] - 0s 13ms/step - loss: 0.4258 - accuracy: 0.7726 - val_loss: 0.4271 - val_accuracy: 0.8043\n",
            "Epoch 20/100\n",
            "5/5 [==============================] - 0s 8ms/step - loss: 0.4167 - accuracy: 0.7775 - val_loss: 0.4193 - val_accuracy: 0.8261\n",
            "Epoch 21/100\n",
            "5/5 [==============================] - 0s 12ms/step - loss: 0.4080 - accuracy: 0.7873 - val_loss: 0.4120 - val_accuracy: 0.8261\n",
            "Epoch 22/100\n",
            "5/5 [==============================] - 0s 9ms/step - loss: 0.4002 - accuracy: 0.8044 - val_loss: 0.4040 - val_accuracy: 0.8261\n",
            "Epoch 23/100\n",
            "5/5 [==============================] - 0s 8ms/step - loss: 0.3918 - accuracy: 0.8166 - val_loss: 0.3968 - val_accuracy: 0.8261\n",
            "Epoch 24/100\n",
            "5/5 [==============================] - 0s 8ms/step - loss: 0.3839 - accuracy: 0.8240 - val_loss: 0.3910 - val_accuracy: 0.8261\n",
            "Epoch 25/100\n",
            "5/5 [==============================] - 0s 8ms/step - loss: 0.3778 - accuracy: 0.8337 - val_loss: 0.3846 - val_accuracy: 0.8261\n",
            "Epoch 26/100\n",
            "5/5 [==============================] - 0s 8ms/step - loss: 0.3708 - accuracy: 0.8386 - val_loss: 0.3776 - val_accuracy: 0.8261\n",
            "Epoch 27/100\n",
            "5/5 [==============================] - 0s 9ms/step - loss: 0.3633 - accuracy: 0.8582 - val_loss: 0.3707 - val_accuracy: 0.8478\n",
            "Epoch 28/100\n",
            "5/5 [==============================] - 0s 8ms/step - loss: 0.3559 - accuracy: 0.8680 - val_loss: 0.3634 - val_accuracy: 0.8478\n",
            "Epoch 29/100\n",
            "5/5 [==============================] - 0s 8ms/step - loss: 0.3481 - accuracy: 0.8826 - val_loss: 0.3574 - val_accuracy: 0.8478\n",
            "Epoch 30/100\n",
            "5/5 [==============================] - 0s 9ms/step - loss: 0.3414 - accuracy: 0.8875 - val_loss: 0.3514 - val_accuracy: 0.8478\n",
            "Epoch 31/100\n",
            "5/5 [==============================] - 0s 8ms/step - loss: 0.3348 - accuracy: 0.8949 - val_loss: 0.3457 - val_accuracy: 0.8478\n",
            "Epoch 32/100\n",
            "5/5 [==============================] - 0s 10ms/step - loss: 0.3287 - accuracy: 0.8973 - val_loss: 0.3399 - val_accuracy: 0.8478\n",
            "Epoch 33/100\n",
            "5/5 [==============================] - 0s 9ms/step - loss: 0.3225 - accuracy: 0.8998 - val_loss: 0.3341 - val_accuracy: 0.8478\n",
            "Epoch 34/100\n",
            "5/5 [==============================] - 0s 9ms/step - loss: 0.3166 - accuracy: 0.8998 - val_loss: 0.3284 - val_accuracy: 0.9130\n",
            "Epoch 35/100\n",
            "5/5 [==============================] - 0s 8ms/step - loss: 0.3106 - accuracy: 0.9022 - val_loss: 0.3230 - val_accuracy: 0.9130\n",
            "Epoch 36/100\n",
            "5/5 [==============================] - 0s 9ms/step - loss: 0.3048 - accuracy: 0.9046 - val_loss: 0.3181 - val_accuracy: 0.9130\n",
            "Epoch 37/100\n",
            "5/5 [==============================] - 0s 8ms/step - loss: 0.2994 - accuracy: 0.9120 - val_loss: 0.3128 - val_accuracy: 0.9130\n",
            "Epoch 38/100\n",
            "5/5 [==============================] - 0s 9ms/step - loss: 0.2934 - accuracy: 0.9193 - val_loss: 0.3078 - val_accuracy: 0.9130\n",
            "Epoch 39/100\n",
            "5/5 [==============================] - 0s 8ms/step - loss: 0.2879 - accuracy: 0.9218 - val_loss: 0.3023 - val_accuracy: 0.9130\n",
            "Epoch 40/100\n",
            "5/5 [==============================] - 0s 8ms/step - loss: 0.2823 - accuracy: 0.9267 - val_loss: 0.2975 - val_accuracy: 0.9130\n",
            "Epoch 41/100\n",
            "5/5 [==============================] - 0s 9ms/step - loss: 0.2774 - accuracy: 0.9291 - val_loss: 0.2928 - val_accuracy: 0.9130\n",
            "Epoch 42/100\n",
            "5/5 [==============================] - 0s 8ms/step - loss: 0.2726 - accuracy: 0.9340 - val_loss: 0.2882 - val_accuracy: 0.9130\n",
            "Epoch 43/100\n",
            "5/5 [==============================] - 0s 8ms/step - loss: 0.2678 - accuracy: 0.9364 - val_loss: 0.2827 - val_accuracy: 0.9130\n",
            "Epoch 44/100\n",
            "5/5 [==============================] - 0s 9ms/step - loss: 0.2622 - accuracy: 0.9389 - val_loss: 0.2783 - val_accuracy: 0.9130\n",
            "Epoch 45/100\n",
            "5/5 [==============================] - 0s 8ms/step - loss: 0.2575 - accuracy: 0.9389 - val_loss: 0.2734 - val_accuracy: 0.9130\n",
            "Epoch 46/100\n",
            "5/5 [==============================] - 0s 9ms/step - loss: 0.2527 - accuracy: 0.9389 - val_loss: 0.2693 - val_accuracy: 0.9348\n",
            "Epoch 47/100\n",
            "5/5 [==============================] - 0s 9ms/step - loss: 0.2485 - accuracy: 0.9389 - val_loss: 0.2655 - val_accuracy: 0.9348\n",
            "Epoch 48/100\n",
            "5/5 [==============================] - 0s 9ms/step - loss: 0.2447 - accuracy: 0.9389 - val_loss: 0.2614 - val_accuracy: 0.9348\n",
            "Epoch 49/100\n",
            "5/5 [==============================] - 0s 8ms/step - loss: 0.2406 - accuracy: 0.9438 - val_loss: 0.2576 - val_accuracy: 0.9348\n",
            "Epoch 50/100\n",
            "5/5 [==============================] - 0s 8ms/step - loss: 0.2368 - accuracy: 0.9438 - val_loss: 0.2540 - val_accuracy: 0.9348\n",
            "Epoch 51/100\n",
            "5/5 [==============================] - 0s 9ms/step - loss: 0.2331 - accuracy: 0.9438 - val_loss: 0.2504 - val_accuracy: 0.9348\n",
            "Epoch 52/100\n",
            "5/5 [==============================] - 0s 8ms/step - loss: 0.2296 - accuracy: 0.9438 - val_loss: 0.2469 - val_accuracy: 0.9348\n",
            "Epoch 53/100\n",
            "5/5 [==============================] - 0s 8ms/step - loss: 0.2261 - accuracy: 0.9438 - val_loss: 0.2435 - val_accuracy: 0.9348\n",
            "Epoch 54/100\n",
            "5/5 [==============================] - 0s 10ms/step - loss: 0.2226 - accuracy: 0.9438 - val_loss: 0.2404 - val_accuracy: 0.9348\n",
            "Epoch 55/100\n",
            "5/5 [==============================] - 0s 8ms/step - loss: 0.2196 - accuracy: 0.9438 - val_loss: 0.2371 - val_accuracy: 0.9348\n",
            "Epoch 56/100\n",
            "5/5 [==============================] - 0s 8ms/step - loss: 0.2166 - accuracy: 0.9462 - val_loss: 0.2338 - val_accuracy: 0.9348\n",
            "Epoch 57/100\n",
            "5/5 [==============================] - 0s 8ms/step - loss: 0.2134 - accuracy: 0.9462 - val_loss: 0.2312 - val_accuracy: 0.9348\n",
            "Epoch 58/100\n",
            "5/5 [==============================] - 0s 8ms/step - loss: 0.2108 - accuracy: 0.9462 - val_loss: 0.2283 - val_accuracy: 0.9348\n",
            "Epoch 59/100\n",
            "5/5 [==============================] - 0s 7ms/step - loss: 0.2081 - accuracy: 0.9462 - val_loss: 0.2265 - val_accuracy: 0.9348\n",
            "Epoch 60/100\n",
            "5/5 [==============================] - 0s 9ms/step - loss: 0.2060 - accuracy: 0.9462 - val_loss: 0.2237 - val_accuracy: 0.9348\n",
            "Epoch 61/100\n",
            "5/5 [==============================] - 0s 9ms/step - loss: 0.2033 - accuracy: 0.9462 - val_loss: 0.2211 - val_accuracy: 0.9565\n",
            "Epoch 62/100\n",
            "5/5 [==============================] - 0s 9ms/step - loss: 0.2008 - accuracy: 0.9462 - val_loss: 0.2180 - val_accuracy: 0.9565\n",
            "Epoch 63/100\n",
            "5/5 [==============================] - 0s 10ms/step - loss: 0.1978 - accuracy: 0.9462 - val_loss: 0.2154 - val_accuracy: 0.9565\n",
            "Epoch 64/100\n",
            "5/5 [==============================] - 0s 8ms/step - loss: 0.1952 - accuracy: 0.9487 - val_loss: 0.2130 - val_accuracy: 0.9565\n",
            "Epoch 65/100\n",
            "5/5 [==============================] - 0s 8ms/step - loss: 0.1928 - accuracy: 0.9487 - val_loss: 0.2107 - val_accuracy: 0.9565\n",
            "Epoch 66/100\n",
            "5/5 [==============================] - 0s 8ms/step - loss: 0.1905 - accuracy: 0.9511 - val_loss: 0.2084 - val_accuracy: 0.9565\n",
            "Epoch 67/100\n",
            "5/5 [==============================] - 0s 8ms/step - loss: 0.1883 - accuracy: 0.9511 - val_loss: 0.2057 - val_accuracy: 0.9565\n",
            "Epoch 68/100\n",
            "5/5 [==============================] - 0s 8ms/step - loss: 0.1858 - accuracy: 0.9511 - val_loss: 0.2034 - val_accuracy: 0.9565\n",
            "Epoch 69/100\n",
            "5/5 [==============================] - 0s 8ms/step - loss: 0.1837 - accuracy: 0.9511 - val_loss: 0.2014 - val_accuracy: 0.9565\n",
            "Epoch 70/100\n",
            "5/5 [==============================] - 0s 8ms/step - loss: 0.1817 - accuracy: 0.9511 - val_loss: 0.1994 - val_accuracy: 0.9565\n",
            "Epoch 71/100\n",
            "5/5 [==============================] - 0s 9ms/step - loss: 0.1792 - accuracy: 0.9535 - val_loss: 0.1971 - val_accuracy: 0.9565\n",
            "Epoch 72/100\n",
            "5/5 [==============================] - 0s 8ms/step - loss: 0.1770 - accuracy: 0.9535 - val_loss: 0.1951 - val_accuracy: 0.9565\n",
            "Epoch 73/100\n",
            "5/5 [==============================] - 0s 9ms/step - loss: 0.1752 - accuracy: 0.9535 - val_loss: 0.1933 - val_accuracy: 0.9565\n",
            "Epoch 74/100\n",
            "5/5 [==============================] - 0s 10ms/step - loss: 0.1732 - accuracy: 0.9535 - val_loss: 0.1910 - val_accuracy: 0.9565\n",
            "Epoch 75/100\n",
            "5/5 [==============================] - 0s 8ms/step - loss: 0.1711 - accuracy: 0.9535 - val_loss: 0.1890 - val_accuracy: 0.9565\n",
            "Epoch 76/100\n",
            "5/5 [==============================] - 0s 13ms/step - loss: 0.1692 - accuracy: 0.9535 - val_loss: 0.1870 - val_accuracy: 0.9565\n",
            "Epoch 77/100\n",
            "5/5 [==============================] - 0s 10ms/step - loss: 0.1674 - accuracy: 0.9535 - val_loss: 0.1851 - val_accuracy: 0.9565\n",
            "Epoch 78/100\n",
            "5/5 [==============================] - 0s 9ms/step - loss: 0.1656 - accuracy: 0.9560 - val_loss: 0.1831 - val_accuracy: 0.9565\n",
            "Epoch 79/100\n",
            "5/5 [==============================] - 0s 9ms/step - loss: 0.1638 - accuracy: 0.9584 - val_loss: 0.1813 - val_accuracy: 0.9565\n",
            "Epoch 80/100\n",
            "5/5 [==============================] - 0s 8ms/step - loss: 0.1622 - accuracy: 0.9584 - val_loss: 0.1797 - val_accuracy: 0.9565\n",
            "Epoch 81/100\n",
            "5/5 [==============================] - 0s 8ms/step - loss: 0.1606 - accuracy: 0.9584 - val_loss: 0.1783 - val_accuracy: 0.9565\n",
            "Epoch 82/100\n",
            "5/5 [==============================] - 0s 8ms/step - loss: 0.1591 - accuracy: 0.9584 - val_loss: 0.1767 - val_accuracy: 0.9565\n",
            "Epoch 83/100\n",
            "5/5 [==============================] - 0s 8ms/step - loss: 0.1576 - accuracy: 0.9584 - val_loss: 0.1752 - val_accuracy: 0.9565\n",
            "Epoch 84/100\n",
            "5/5 [==============================] - 0s 8ms/step - loss: 0.1562 - accuracy: 0.9584 - val_loss: 0.1736 - val_accuracy: 0.9565\n",
            "Epoch 85/100\n",
            "5/5 [==============================] - 0s 8ms/step - loss: 0.1547 - accuracy: 0.9584 - val_loss: 0.1724 - val_accuracy: 0.9565\n",
            "Epoch 86/100\n",
            "5/5 [==============================] - 0s 10ms/step - loss: 0.1534 - accuracy: 0.9584 - val_loss: 0.1711 - val_accuracy: 0.9565\n",
            "Epoch 87/100\n",
            "5/5 [==============================] - 0s 10ms/step - loss: 0.1521 - accuracy: 0.9584 - val_loss: 0.1701 - val_accuracy: 0.9565\n",
            "Epoch 88/100\n",
            "5/5 [==============================] - 0s 8ms/step - loss: 0.1508 - accuracy: 0.9584 - val_loss: 0.1685 - val_accuracy: 0.9565\n",
            "Epoch 89/100\n",
            "5/5 [==============================] - 0s 8ms/step - loss: 0.1493 - accuracy: 0.9584 - val_loss: 0.1671 - val_accuracy: 0.9565\n",
            "Epoch 90/100\n",
            "5/5 [==============================] - 0s 8ms/step - loss: 0.1480 - accuracy: 0.9584 - val_loss: 0.1657 - val_accuracy: 0.9565\n",
            "Epoch 91/100\n",
            "5/5 [==============================] - 0s 8ms/step - loss: 0.1467 - accuracy: 0.9584 - val_loss: 0.1645 - val_accuracy: 0.9565\n",
            "Epoch 92/100\n",
            "5/5 [==============================] - 0s 9ms/step - loss: 0.1454 - accuracy: 0.9584 - val_loss: 0.1631 - val_accuracy: 0.9565\n",
            "Epoch 93/100\n",
            "5/5 [==============================] - 0s 8ms/step - loss: 0.1441 - accuracy: 0.9584 - val_loss: 0.1618 - val_accuracy: 0.9565\n",
            "Epoch 94/100\n",
            "5/5 [==============================] - 0s 9ms/step - loss: 0.1429 - accuracy: 0.9584 - val_loss: 0.1607 - val_accuracy: 0.9565\n",
            "Epoch 95/100\n",
            "5/5 [==============================] - 0s 9ms/step - loss: 0.1418 - accuracy: 0.9584 - val_loss: 0.1595 - val_accuracy: 0.9565\n",
            "Epoch 96/100\n",
            "5/5 [==============================] - 0s 8ms/step - loss: 0.1406 - accuracy: 0.9584 - val_loss: 0.1584 - val_accuracy: 0.9565\n",
            "Epoch 97/100\n",
            "5/5 [==============================] - 0s 9ms/step - loss: 0.1396 - accuracy: 0.9584 - val_loss: 0.1572 - val_accuracy: 0.9565\n",
            "Epoch 98/100\n",
            "5/5 [==============================] - 0s 10ms/step - loss: 0.1385 - accuracy: 0.9584 - val_loss: 0.1562 - val_accuracy: 0.9565\n",
            "Epoch 99/100\n",
            "5/5 [==============================] - 0s 8ms/step - loss: 0.1375 - accuracy: 0.9584 - val_loss: 0.1551 - val_accuracy: 0.9565\n",
            "Epoch 100/100\n",
            "5/5 [==============================] - 0s 8ms/step - loss: 0.1363 - accuracy: 0.9633 - val_loss: 0.1540 - val_accuracy: 0.9565\n",
            "training time: 11.006525754928589\n"
          ]
        }
      ]
    },
    {
      "cell_type": "code",
      "source": [
        "evaluate(X_test, y_test, model5)\n",
        "plot_loss(history5)"
      ],
      "metadata": {
        "colab": {
          "base_uri": "https://localhost:8080/",
          "height": 348
        },
        "id": "il_d4qpPyMvd",
        "outputId": "9d9fe955-59af-4d69-cbbf-e7222489b323"
      },
      "execution_count": null,
      "outputs": [
        {
          "output_type": "stream",
          "name": "stdout",
          "text": [
            "[[42  5]\n",
            " [ 4 63]]\n",
            "accuracy = : 0.9210526315789473\n"
          ]
        },
        {
          "output_type": "display_data",
          "data": {
            "text/plain": [
              "<Figure size 432x288 with 2 Axes>"
            ],
            "image/png": "[encoded data removed]"
          },
          "metadata": {
            "needs_background": "light"
          }
        }
      ]
    }
  ]
}